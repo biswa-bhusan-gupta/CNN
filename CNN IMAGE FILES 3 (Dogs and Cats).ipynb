{
 "cells": [
  {
   "cell_type": "code",
   "execution_count": 1,
   "metadata": {},
   "outputs": [],
   "source": [
    "from tensorflow.keras.models import Sequential \n",
    "from tensorflow.keras.layers import Dense,Conv2D,MaxPool2D,Flatten,Dropout"
   ]
  },
  {
   "cell_type": "code",
   "execution_count": 2,
   "metadata": {},
   "outputs": [],
   "source": [
    "Model=Sequential()\n",
    "\n",
    "Model.add(Conv2D(filters=32,kernel_size=(3,3),input_shape=(64,64,3),activation='relu'))\n",
    "Model.add(MaxPool2D(pool_size=(2,2)))\n",
    "\n",
    "\n",
    "Model.add(Conv2D(filters=32,kernel_size=(3,3),activation='relu'))\n",
    "Model.add(MaxPool2D(pool_size=(2,2)))\n",
    "\n",
    "Model.add(Flatten())\n",
    "\n",
    "Model.add(Dense(128,activation='relu'))\n",
    "Model.add(Dense(1,activation='sigmoid'))\n",
    "\n",
    "Model.compile(loss='binary_crossentropy',optimizer='adam',metrics=['accuracy'])"
   ]
  },
  {
   "cell_type": "code",
   "execution_count": 3,
   "metadata": {},
   "outputs": [],
   "source": [
    "from tensorflow.keras.preprocessing.image import ImageDataGenerator"
   ]
  },
  {
   "cell_type": "code",
   "execution_count": 4,
   "metadata": {},
   "outputs": [],
   "source": [
    "Train_DataGen=ImageDataGenerator(rescale=1./255,\n",
    "                                 shear_range=0.2,\n",
    "                                 zoom_range=0.2,\n",
    "                                 horizontal_flip=True\n",
    "                                )\n"
   ]
  },
  {
   "cell_type": "code",
   "execution_count": 5,
   "metadata": {},
   "outputs": [],
   "source": [
    "Test_DataGen=ImageDataGenerator(rescale=1./255)"
   ]
  },
  {
   "cell_type": "code",
   "execution_count": 6,
   "metadata": {},
   "outputs": [
    {
     "name": "stdout",
     "output_type": "stream",
     "text": [
      "Found 8000 images belonging to 2 classes.\n"
     ]
    }
   ],
   "source": [
    "# MAKE TARGET SIZE EQUAL TO INPUT SIZE \n",
    "# DON'T EXCEED BATCH SIZE MORE THAN 32\n",
    "Training_Set=Train_DataGen.flow_from_directory('Dataset/Training_Set',target_size=(64,64),batch_size=32,class_mode='binary')"
   ]
  },
  {
   "cell_type": "code",
   "execution_count": 7,
   "metadata": {},
   "outputs": [
    {
     "name": "stdout",
     "output_type": "stream",
     "text": [
      "Found 2000 images belonging to 2 classes.\n"
     ]
    }
   ],
   "source": [
    "Test_Set=Test_DataGen.flow_from_directory('Dataset/Test_Set',target_size=(64,64),batch_size=32,class_mode='binary')"
   ]
  },
  {
   "cell_type": "code",
   "execution_count": 8,
   "metadata": {},
   "outputs": [
    {
     "name": "stdout",
     "output_type": "stream",
     "text": [
      "Epoch 1/25\n",
      "250/250 [==============================] - 73s 292ms/step - loss: 0.6842 - accuracy: 0.5545 - val_loss: 0.6448 - val_accuracy: 0.6205\n",
      "Epoch 2/25\n",
      "250/250 [==============================] - 67s 268ms/step - loss: 0.6173 - accuracy: 0.6524 - val_loss: 0.5706 - val_accuracy: 0.7060\n",
      "Epoch 3/25\n",
      "250/250 [==============================] - 64s 258ms/step - loss: 0.5690 - accuracy: 0.7029 - val_loss: 0.5430 - val_accuracy: 0.7275\n",
      "Epoch 4/25\n",
      "250/250 [==============================] - 96s 383ms/step - loss: 0.5342 - accuracy: 0.7322 - val_loss: 0.5470 - val_accuracy: 0.7235\n",
      "Epoch 5/25\n",
      "250/250 [==============================] - 103s 411ms/step - loss: 0.5081 - accuracy: 0.7498 - val_loss: 0.5365 - val_accuracy: 0.7365\n",
      "Epoch 6/25\n",
      "250/250 [==============================] - 103s 413ms/step - loss: 0.4810 - accuracy: 0.7666 - val_loss: 0.4758 - val_accuracy: 0.7695\n",
      "Epoch 7/25\n",
      "250/250 [==============================] - 103s 411ms/step - loss: 0.4687 - accuracy: 0.7769 - val_loss: 0.5427 - val_accuracy: 0.7245\n",
      "Epoch 8/25\n",
      "250/250 [==============================] - 102s 410ms/step - loss: 0.4562 - accuracy: 0.7764 - val_loss: 0.4617 - val_accuracy: 0.7770\n",
      "Epoch 9/25\n",
      "250/250 [==============================] - 102s 409ms/step - loss: 0.4288 - accuracy: 0.7977 - val_loss: 0.4630 - val_accuracy: 0.7830\n",
      "Epoch 10/25\n",
      "250/250 [==============================] - 102s 408ms/step - loss: 0.4079 - accuracy: 0.8121 - val_loss: 0.4780 - val_accuracy: 0.7815\n",
      "Epoch 11/25\n",
      "250/250 [==============================] - 103s 412ms/step - loss: 0.4064 - accuracy: 0.8120 - val_loss: 0.5301 - val_accuracy: 0.7640\n",
      "Epoch 12/25\n",
      "250/250 [==============================] - 103s 411ms/step - loss: 0.3837 - accuracy: 0.8239 - val_loss: 0.4766 - val_accuracy: 0.7830\n",
      "Epoch 13/25\n",
      "250/250 [==============================] - 106s 424ms/step - loss: 0.3732 - accuracy: 0.8314 - val_loss: 0.5534 - val_accuracy: 0.7425\n",
      "Epoch 14/25\n",
      "250/250 [==============================] - 105s 419ms/step - loss: 0.3512 - accuracy: 0.8444 - val_loss: 0.4573 - val_accuracy: 0.8025\n",
      "Epoch 15/25\n",
      "250/250 [==============================] - 103s 412ms/step - loss: 0.3431 - accuracy: 0.8520 - val_loss: 0.4978 - val_accuracy: 0.7755\n",
      "Epoch 16/25\n",
      "250/250 [==============================] - 103s 412ms/step - loss: 0.3174 - accuracy: 0.8622 - val_loss: 0.4897 - val_accuracy: 0.7955\n",
      "Epoch 17/25\n",
      "250/250 [==============================] - 103s 410ms/step - loss: 0.3004 - accuracy: 0.8683 - val_loss: 0.5358 - val_accuracy: 0.7960\n",
      "Epoch 18/25\n",
      "250/250 [==============================] - 102s 410ms/step - loss: 0.2994 - accuracy: 0.8710 - val_loss: 0.5046 - val_accuracy: 0.7990\n",
      "Epoch 19/25\n",
      "250/250 [==============================] - 102s 410ms/step - loss: 0.2671 - accuracy: 0.8854 - val_loss: 0.5474 - val_accuracy: 0.7945\n",
      "Epoch 20/25\n",
      "250/250 [==============================] - 102s 408ms/step - loss: 0.2575 - accuracy: 0.8938 - val_loss: 0.5502 - val_accuracy: 0.7955\n",
      "Epoch 21/25\n",
      "250/250 [==============================] - 102s 408ms/step - loss: 0.2387 - accuracy: 0.9022 - val_loss: 0.5259 - val_accuracy: 0.7870\n",
      "Epoch 22/25\n",
      "250/250 [==============================] - 102s 408ms/step - loss: 0.2290 - accuracy: 0.9045 - val_loss: 0.5924 - val_accuracy: 0.7960\n",
      "Epoch 23/25\n",
      "250/250 [==============================] - 101s 405ms/step - loss: 0.2142 - accuracy: 0.9107 - val_loss: 0.5680 - val_accuracy: 0.7930\n",
      "Epoch 24/25\n",
      "250/250 [==============================] - 102s 408ms/step - loss: 0.2049 - accuracy: 0.9181 - val_loss: 0.5952 - val_accuracy: 0.7930\n",
      "Epoch 25/25\n",
      "250/250 [==============================] - 102s 408ms/step - loss: 0.2000 - accuracy: 0.9202 - val_loss: 0.5445 - val_accuracy: 0.8040\n"
     ]
    },
    {
     "data": {
      "text/plain": [
       "<tensorflow.python.keras.callbacks.History at 0x2175acae748>"
      ]
     },
     "execution_count": 8,
     "metadata": {},
     "output_type": "execute_result"
    }
   ],
   "source": [
    "# SAMPLES PER EPOCH:TRAINING SAMPLES\n",
    "# NB VAL SAMPLES:TEST SAMPLES\n",
    "Model.fit_generator(Training_Set,epochs=25,validation_data=(Test_Set))"
   ]
  },
  {
   "cell_type": "code",
   "execution_count": 9,
   "metadata": {},
   "outputs": [
    {
     "data": {
      "text/plain": [
       "{'loss': [0.6841858716011048,\n",
       "  0.617327008843422,\n",
       "  0.5689782537221909,\n",
       "  0.5342323648929596,\n",
       "  0.5080767841339111,\n",
       "  0.48097561407089234,\n",
       "  0.4686609569787979,\n",
       "  0.45622732174396513,\n",
       "  0.4287519348263741,\n",
       "  0.407903622508049,\n",
       "  0.40637797993421554,\n",
       "  0.38369157803058623,\n",
       "  0.3731629464626312,\n",
       "  0.35116111558675767,\n",
       "  0.34309394463896753,\n",
       "  0.3174125779271126,\n",
       "  0.30040590378642085,\n",
       "  0.2994044914543629,\n",
       "  0.2670647389292717,\n",
       "  0.2575281387269497,\n",
       "  0.2386737826168537,\n",
       "  0.22899359776079656,\n",
       "  0.21417148232460023,\n",
       "  0.20493879291415215,\n",
       "  0.1999796672910452],\n",
       " 'accuracy': [0.5545,\n",
       "  0.652375,\n",
       "  0.702875,\n",
       "  0.73225,\n",
       "  0.74975,\n",
       "  0.766625,\n",
       "  0.776875,\n",
       "  0.776375,\n",
       "  0.79775,\n",
       "  0.812125,\n",
       "  0.812,\n",
       "  0.823875,\n",
       "  0.831375,\n",
       "  0.844375,\n",
       "  0.852,\n",
       "  0.86225,\n",
       "  0.86825,\n",
       "  0.871,\n",
       "  0.885375,\n",
       "  0.89375,\n",
       "  0.90225,\n",
       "  0.9045,\n",
       "  0.91075,\n",
       "  0.918125,\n",
       "  0.92025],\n",
       " 'val_loss': [0.644802591157338,\n",
       "  0.5706474251217313,\n",
       "  0.5429968190571618,\n",
       "  0.5470362192108518,\n",
       "  0.5364801860044873,\n",
       "  0.47580474331265404,\n",
       "  0.5426889596477388,\n",
       "  0.46169542745938374,\n",
       "  0.46302369236946106,\n",
       "  0.4779940576307357,\n",
       "  0.5300824784097218,\n",
       "  0.4766139501617068,\n",
       "  0.5534478451997514,\n",
       "  0.45727701177672736,\n",
       "  0.49783333237209015,\n",
       "  0.48968400415920077,\n",
       "  0.5357756047021776,\n",
       "  0.5045617218055423,\n",
       "  0.547384792140552,\n",
       "  0.5501943126557365,\n",
       "  0.5259219190431019,\n",
       "  0.5924124317982841,\n",
       "  0.5679504346279871,\n",
       "  0.5951515751935187,\n",
       "  0.5444852667195457],\n",
       " 'val_accuracy': [0.6205,\n",
       "  0.706,\n",
       "  0.7275,\n",
       "  0.7235,\n",
       "  0.7365,\n",
       "  0.7695,\n",
       "  0.7245,\n",
       "  0.777,\n",
       "  0.783,\n",
       "  0.7815,\n",
       "  0.764,\n",
       "  0.783,\n",
       "  0.7425,\n",
       "  0.8025,\n",
       "  0.7755,\n",
       "  0.7955,\n",
       "  0.796,\n",
       "  0.799,\n",
       "  0.7945,\n",
       "  0.7955,\n",
       "  0.787,\n",
       "  0.796,\n",
       "  0.793,\n",
       "  0.793,\n",
       "  0.804]}"
      ]
     },
     "execution_count": 9,
     "metadata": {},
     "output_type": "execute_result"
    }
   ],
   "source": [
    "Model.history.history"
   ]
  },
  {
   "cell_type": "code",
   "execution_count": 12,
   "metadata": {},
   "outputs": [],
   "source": [
    "import pandas as pd\n",
    "import matplotlib.pyplot as plt\n",
    "Metrics=pd.DataFrame(Model.history.history)"
   ]
  },
  {
   "cell_type": "code",
   "execution_count": 13,
   "metadata": {},
   "outputs": [
    {
     "data": {
      "text/plain": [
       "<matplotlib.axes._subplots.AxesSubplot at 0x21761189308>"
      ]
     },
     "execution_count": 13,
     "metadata": {},
     "output_type": "execute_result"
    },
    {
     "data": {
      "image/png": "[encoded data removed]",
      "text/plain": [
       "<Figure size 432x288 with 1 Axes>"
      ]
     },
     "metadata": {
      "needs_background": "light"
     },
     "output_type": "display_data"
    }
   ],
   "source": [
    "Metrics.plot()"
   ]
  },
  {
   "cell_type": "code",
   "execution_count": 14,
   "metadata": {},
   "outputs": [
    {
     "data": {
      "text/plain": [
       "<matplotlib.axes._subplots.AxesSubplot at 0x21761648d48>"
      ]
     },
     "execution_count": 14,
     "metadata": {},
     "output_type": "execute_result"
    },
    {
     "data": {
      "image/png": "[encoded data removed]",
      "text/plain": [
       "<Figure size 432x288 with 1 Axes>"
      ]
     },
     "metadata": {
      "needs_background": "light"
     },
     "output_type": "display_data"
    }
   ],
   "source": [
    "Metrics[['loss','val_loss']].plot()"
   ]
  },
  {
   "cell_type": "code",
   "execution_count": 15,
   "metadata": {},
   "outputs": [
    {
     "data": {
      "text/plain": [
       "<matplotlib.axes._subplots.AxesSubplot at 0x217616fecc8>"
      ]
     },
     "execution_count": 15,
     "metadata": {},
     "output_type": "execute_result"
    },
    {
     "data": {
      "image/png": "[encoded data removed]",
      "text/plain": [
       "<Figure size 432x288 with 1 Axes>"
      ]
     },
     "metadata": {
      "needs_background": "light"
     },
     "output_type": "display_data"
    }
   ],
   "source": [
    "Metrics[['accuracy','val_accuracy']].plot()"
   ]
  }
 ],
 "metadata": {
  "kernelspec": {
   "display_name": "Python 3",
   "language": "python",
   "name": "python3"
  },
  "language_info": {
   "codemirror_mode": {
    "name": "ipython",
    "version": 3
   },
   "file_extension": ".py",
   "mimetype": "text/x-python",
   "name": "python",
   "nbconvert_exporter": "python",
   "pygments_lexer": "ipython3",
   "version": "3.7.6"
  }
 },
 "nbformat": 4,
 "nbformat_minor": 4
}
